{
 "cells": [
  {
   "cell_type": "markdown",
   "metadata": {},
   "source": [
    "# Predict the winner of a basketball game"
   ]
  },
  {
   "cell_type": "markdown",
   "metadata": {},
   "source": [
    "# RNN Sequence classifier"
   ]
  },
  {
   "cell_type": "markdown",
   "metadata": {},
   "source": [
    "In this notebook, we will predict the winner of a basketball game based on the scores observed in the first 3 quarters of the game. Each column represents the beginning of a minute during the game. (There are 12 minutes in each quarter. There are  3 quarters in the data, so we have 36 columns as input variables in chronological order.) The values captured in each column represent the score difference observed at that minute (home score minus away score)<br><br>\n",
    "\n",
    "The last column `W` represents whether the home team (1) or the away team (0) won the game. This is the target variable. <br><br>\n",
    "**Our unit of analysis is a single game.**"
   ]
  },
  {
   "cell_type": "code",
   "execution_count": 1,
   "metadata": {},
   "outputs": [],
   "source": [
    "# Common imports\n",
    "import numpy as np\n",
    "import tensorflow as tf\n",
    "from tensorflow import keras\n",
    "import pandas as pd"
   ]
  },
  {
   "cell_type": "markdown",
   "metadata": {},
   "source": [
    "## Get the data"
   ]
  },
  {
   "cell_type": "code",
   "execution_count": 2,
   "metadata": {},
   "outputs": [],
   "source": [
    "data = pd.read_csv(\"basketball.csv\")"
   ]
  },
  {
   "cell_type": "code",
   "execution_count": 3,
   "metadata": {},
   "outputs": [
    {
     "data": {
      "text/plain": [
       "(1230, 37)"
      ]
     },
     "execution_count": 3,
     "metadata": {},
     "output_type": "execute_result"
    }
   ],
   "source": [
    "data.shape"
   ]
  },
  {
   "cell_type": "code",
   "execution_count": 4,
   "metadata": {},
   "outputs": [
    {
     "data": {
      "text/html": [
       "<div>\n",
       "<style scoped>\n",
       "    .dataframe tbody tr th:only-of-type {\n",
       "        vertical-align: middle;\n",
       "    }\n",
       "\n",
       "    .dataframe tbody tr th {\n",
       "        vertical-align: top;\n",
       "    }\n",
       "\n",
       "    .dataframe thead th {\n",
       "        text-align: right;\n",
       "    }\n",
       "</style>\n",
       "<table border=\"1\" class=\"dataframe\">\n",
       "  <thead>\n",
       "    <tr style=\"text-align: right;\">\n",
       "      <th></th>\n",
       "      <th>M1</th>\n",
       "      <th>M2</th>\n",
       "      <th>M3</th>\n",
       "      <th>M4</th>\n",
       "      <th>M5</th>\n",
       "      <th>M6</th>\n",
       "      <th>M7</th>\n",
       "      <th>M8</th>\n",
       "      <th>M9</th>\n",
       "      <th>M10</th>\n",
       "      <th>...</th>\n",
       "      <th>M28</th>\n",
       "      <th>M29</th>\n",
       "      <th>M30</th>\n",
       "      <th>M31</th>\n",
       "      <th>M32</th>\n",
       "      <th>M33</th>\n",
       "      <th>M34</th>\n",
       "      <th>M35</th>\n",
       "      <th>M36</th>\n",
       "      <th>W</th>\n",
       "    </tr>\n",
       "  </thead>\n",
       "  <tbody>\n",
       "    <tr>\n",
       "      <th>0</th>\n",
       "      <td>-2</td>\n",
       "      <td>-1</td>\n",
       "      <td>1</td>\n",
       "      <td>1</td>\n",
       "      <td>-1</td>\n",
       "      <td>-3</td>\n",
       "      <td>-1</td>\n",
       "      <td>0</td>\n",
       "      <td>3</td>\n",
       "      <td>6</td>\n",
       "      <td>...</td>\n",
       "      <td>9</td>\n",
       "      <td>11</td>\n",
       "      <td>10</td>\n",
       "      <td>7</td>\n",
       "      <td>7</td>\n",
       "      <td>4</td>\n",
       "      <td>6</td>\n",
       "      <td>2</td>\n",
       "      <td>1</td>\n",
       "      <td>1</td>\n",
       "    </tr>\n",
       "    <tr>\n",
       "      <th>1</th>\n",
       "      <td>0</td>\n",
       "      <td>2</td>\n",
       "      <td>7</td>\n",
       "      <td>6</td>\n",
       "      <td>10</td>\n",
       "      <td>8</td>\n",
       "      <td>8</td>\n",
       "      <td>6</td>\n",
       "      <td>0</td>\n",
       "      <td>6</td>\n",
       "      <td>...</td>\n",
       "      <td>7</td>\n",
       "      <td>11</td>\n",
       "      <td>11</td>\n",
       "      <td>14</td>\n",
       "      <td>14</td>\n",
       "      <td>15</td>\n",
       "      <td>13</td>\n",
       "      <td>13</td>\n",
       "      <td>13</td>\n",
       "      <td>0</td>\n",
       "    </tr>\n",
       "    <tr>\n",
       "      <th>2</th>\n",
       "      <td>0</td>\n",
       "      <td>-2</td>\n",
       "      <td>2</td>\n",
       "      <td>0</td>\n",
       "      <td>5</td>\n",
       "      <td>4</td>\n",
       "      <td>5</td>\n",
       "      <td>3</td>\n",
       "      <td>5</td>\n",
       "      <td>3</td>\n",
       "      <td>...</td>\n",
       "      <td>9</td>\n",
       "      <td>11</td>\n",
       "      <td>13</td>\n",
       "      <td>13</td>\n",
       "      <td>12</td>\n",
       "      <td>17</td>\n",
       "      <td>15</td>\n",
       "      <td>15</td>\n",
       "      <td>12</td>\n",
       "      <td>1</td>\n",
       "    </tr>\n",
       "    <tr>\n",
       "      <th>3</th>\n",
       "      <td>0</td>\n",
       "      <td>2</td>\n",
       "      <td>0</td>\n",
       "      <td>3</td>\n",
       "      <td>4</td>\n",
       "      <td>3</td>\n",
       "      <td>5</td>\n",
       "      <td>4</td>\n",
       "      <td>3</td>\n",
       "      <td>1</td>\n",
       "      <td>...</td>\n",
       "      <td>10</td>\n",
       "      <td>6</td>\n",
       "      <td>7</td>\n",
       "      <td>7</td>\n",
       "      <td>8</td>\n",
       "      <td>8</td>\n",
       "      <td>8</td>\n",
       "      <td>8</td>\n",
       "      <td>8</td>\n",
       "      <td>1</td>\n",
       "    </tr>\n",
       "    <tr>\n",
       "      <th>4</th>\n",
       "      <td>0</td>\n",
       "      <td>-2</td>\n",
       "      <td>-2</td>\n",
       "      <td>0</td>\n",
       "      <td>3</td>\n",
       "      <td>-2</td>\n",
       "      <td>-7</td>\n",
       "      <td>-5</td>\n",
       "      <td>-7</td>\n",
       "      <td>-4</td>\n",
       "      <td>...</td>\n",
       "      <td>10</td>\n",
       "      <td>10</td>\n",
       "      <td>15</td>\n",
       "      <td>13</td>\n",
       "      <td>11</td>\n",
       "      <td>11</td>\n",
       "      <td>11</td>\n",
       "      <td>13</td>\n",
       "      <td>10</td>\n",
       "      <td>1</td>\n",
       "    </tr>\n",
       "  </tbody>\n",
       "</table>\n",
       "<p>5 rows × 37 columns</p>\n",
       "</div>"
      ],
      "text/plain": [
       "   M1  M2  M3  M4  M5  M6  M7  M8  M9  M10  ...  M28  M29  M30  M31  M32  M33  \\\n",
       "0  -2  -1   1   1  -1  -3  -1   0   3    6  ...    9   11   10    7    7    4   \n",
       "1   0   2   7   6  10   8   8   6   0    6  ...    7   11   11   14   14   15   \n",
       "2   0  -2   2   0   5   4   5   3   5    3  ...    9   11   13   13   12   17   \n",
       "3   0   2   0   3   4   3   5   4   3    1  ...   10    6    7    7    8    8   \n",
       "4   0  -2  -2   0   3  -2  -7  -5  -7   -4  ...   10   10   15   13   11   11   \n",
       "\n",
       "   M34  M35  M36  W  \n",
       "0    6    2    1  1  \n",
       "1   13   13   13  0  \n",
       "2   15   15   12  1  \n",
       "3    8    8    8  1  \n",
       "4   11   13   10  1  \n",
       "\n",
       "[5 rows x 37 columns]"
      ]
     },
     "execution_count": 4,
     "metadata": {},
     "output_type": "execute_result"
    }
   ],
   "source": [
    "data.head()"
   ]
  },
  {
   "cell_type": "code",
   "execution_count": 5,
   "metadata": {},
   "outputs": [],
   "source": [
    "y = data['W']\n",
    "x = data.drop('W', axis=1)"
   ]
  },
  {
   "cell_type": "markdown",
   "metadata": {},
   "source": [
    "## Split the data"
   ]
  },
  {
   "cell_type": "code",
   "execution_count": 6,
   "metadata": {},
   "outputs": [],
   "source": [
    "from sklearn.model_selection import train_test_split\n",
    "\n",
    "train_x, test_x, train_y, test_y = train_test_split(x, y, test_size=0.3)"
   ]
  },
  {
   "cell_type": "markdown",
   "metadata": {},
   "source": [
    "## Data Transformation"
   ]
  },
  {
   "cell_type": "code",
   "execution_count": 7,
   "metadata": {},
   "outputs": [],
   "source": [
    "#Target variables need to be an array with integer type\n",
    "train_y = np.array(train_y)\n",
    "test_y = np.array(test_y)\n",
    "\n",
    "train_y = train_y.astype(np.int32)\n",
    "test_y = test_y.astype(np.int32)\n",
    "\n"
   ]
  },
  {
   "cell_type": "code",
   "execution_count": 8,
   "metadata": {
    "scrolled": true
   },
   "outputs": [
    {
     "data": {
      "text/plain": [
       "array([1, 1, 1, 1, 0, 1, 0, 1, 0, 1])"
      ]
     },
     "execution_count": 8,
     "metadata": {},
     "output_type": "execute_result"
    }
   ],
   "source": [
    "#Check the first 10 values of the train_y data set\n",
    "train_y[0:10]"
   ]
  },
  {
   "cell_type": "code",
   "execution_count": 9,
   "metadata": {},
   "outputs": [],
   "source": [
    "#Convert input variables to a 2-D array with float data type\n",
    "train_x= np.array(train_x)\n",
    "test_x= np.array(test_x)\n",
    "\n",
    "train_x = train_x.astype(np.float32)\n",
    "test_x = test_x.astype(np.float32)"
   ]
  },
  {
   "cell_type": "code",
   "execution_count": 10,
   "metadata": {},
   "outputs": [
    {
     "data": {
      "text/plain": [
       "array([[ 0., -2., -4., ...,  1.,  1.,  2.],\n",
       "       [-2.,  1.,  2., ..., -8., -3., -1.],\n",
       "       [-1., -1.,  2., ...,  9.,  9., 10.],\n",
       "       ...,\n",
       "       [-2.,  1., -5., ...,  2.,  5.,  7.],\n",
       "       [ 0.,  4.,  3., ..., -9., -7., -9.],\n",
       "       [ 0.,  4.,  4., ..., 32., 33., 33.]], dtype=float32)"
      ]
     },
     "execution_count": 10,
     "metadata": {},
     "output_type": "execute_result"
    }
   ],
   "source": [
    "train_x"
   ]
  },
  {
   "cell_type": "code",
   "execution_count": 11,
   "metadata": {},
   "outputs": [],
   "source": [
    "#Keras expects a different input format:\n",
    "#Data needs to have 3 dimensions\n",
    "\n",
    "train_x = np.reshape(train_x, (train_x.shape[0], train_x.shape[1], 1))\n",
    "test_x = np.reshape(test_x, (test_x.shape[0], test_x.shape[1], 1))\n",
    "\n"
   ]
  },
  {
   "cell_type": "code",
   "execution_count": 12,
   "metadata": {},
   "outputs": [
    {
     "data": {
      "text/plain": [
       "((861, 36, 1), (861,))"
      ]
     },
     "execution_count": 12,
     "metadata": {},
     "output_type": "execute_result"
    }
   ],
   "source": [
    "train_x.shape, train_y.shape"
   ]
  },
  {
   "cell_type": "code",
   "execution_count": 13,
   "metadata": {},
   "outputs": [
    {
     "data": {
      "text/plain": [
       "array([[[ 0.],\n",
       "        [-2.],\n",
       "        [-4.],\n",
       "        ...,\n",
       "        [ 1.],\n",
       "        [ 1.],\n",
       "        [ 2.]],\n",
       "\n",
       "       [[-2.],\n",
       "        [ 1.],\n",
       "        [ 2.],\n",
       "        ...,\n",
       "        [-8.],\n",
       "        [-3.],\n",
       "        [-1.]],\n",
       "\n",
       "       [[-1.],\n",
       "        [-1.],\n",
       "        [ 2.],\n",
       "        ...,\n",
       "        [ 9.],\n",
       "        [ 9.],\n",
       "        [10.]],\n",
       "\n",
       "       ...,\n",
       "\n",
       "       [[-2.],\n",
       "        [ 1.],\n",
       "        [-5.],\n",
       "        ...,\n",
       "        [ 2.],\n",
       "        [ 5.],\n",
       "        [ 7.]],\n",
       "\n",
       "       [[ 0.],\n",
       "        [ 4.],\n",
       "        [ 3.],\n",
       "        ...,\n",
       "        [-9.],\n",
       "        [-7.],\n",
       "        [-9.]],\n",
       "\n",
       "       [[ 0.],\n",
       "        [ 4.],\n",
       "        [ 4.],\n",
       "        ...,\n",
       "        [32.],\n",
       "        [33.],\n",
       "        [33.]]], dtype=float32)"
      ]
     },
     "execution_count": 13,
     "metadata": {},
     "output_type": "execute_result"
    }
   ],
   "source": [
    "train_x"
   ]
  },
  {
   "cell_type": "markdown",
   "metadata": {},
   "source": [
    "# Baseline Accuracy"
   ]
  },
  {
   "cell_type": "code",
   "execution_count": 14,
   "metadata": {},
   "outputs": [
    {
     "data": {
      "text/html": [
       "<style>#sk-container-id-1 {color: black;background-color: white;}#sk-container-id-1 pre{padding: 0;}#sk-container-id-1 div.sk-toggleable {background-color: white;}#sk-container-id-1 label.sk-toggleable__label {cursor: pointer;display: block;width: 100%;margin-bottom: 0;padding: 0.3em;box-sizing: border-box;text-align: center;}#sk-container-id-1 label.sk-toggleable__label-arrow:before {content: \"▸\";float: left;margin-right: 0.25em;color: #696969;}#sk-container-id-1 label.sk-toggleable__label-arrow:hover:before {color: black;}#sk-container-id-1 div.sk-estimator:hover label.sk-toggleable__label-arrow:before {color: black;}#sk-container-id-1 div.sk-toggleable__content {max-height: 0;max-width: 0;overflow: hidden;text-align: left;background-color: #f0f8ff;}#sk-container-id-1 div.sk-toggleable__content pre {margin: 0.2em;color: black;border-radius: 0.25em;background-color: #f0f8ff;}#sk-container-id-1 input.sk-toggleable__control:checked~div.sk-toggleable__content {max-height: 200px;max-width: 100%;overflow: auto;}#sk-container-id-1 input.sk-toggleable__control:checked~label.sk-toggleable__label-arrow:before {content: \"▾\";}#sk-container-id-1 div.sk-estimator input.sk-toggleable__control:checked~label.sk-toggleable__label {background-color: #d4ebff;}#sk-container-id-1 div.sk-label input.sk-toggleable__control:checked~label.sk-toggleable__label {background-color: #d4ebff;}#sk-container-id-1 input.sk-hidden--visually {border: 0;clip: rect(1px 1px 1px 1px);clip: rect(1px, 1px, 1px, 1px);height: 1px;margin: -1px;overflow: hidden;padding: 0;position: absolute;width: 1px;}#sk-container-id-1 div.sk-estimator {font-family: monospace;background-color: #f0f8ff;border: 1px dotted black;border-radius: 0.25em;box-sizing: border-box;margin-bottom: 0.5em;}#sk-container-id-1 div.sk-estimator:hover {background-color: #d4ebff;}#sk-container-id-1 div.sk-parallel-item::after {content: \"\";width: 100%;border-bottom: 1px solid gray;flex-grow: 1;}#sk-container-id-1 div.sk-label:hover label.sk-toggleable__label {background-color: #d4ebff;}#sk-container-id-1 div.sk-serial::before {content: \"\";position: absolute;border-left: 1px solid gray;box-sizing: border-box;top: 0;bottom: 0;left: 50%;z-index: 0;}#sk-container-id-1 div.sk-serial {display: flex;flex-direction: column;align-items: center;background-color: white;padding-right: 0.2em;padding-left: 0.2em;position: relative;}#sk-container-id-1 div.sk-item {position: relative;z-index: 1;}#sk-container-id-1 div.sk-parallel {display: flex;align-items: stretch;justify-content: center;background-color: white;position: relative;}#sk-container-id-1 div.sk-item::before, #sk-container-id-1 div.sk-parallel-item::before {content: \"\";position: absolute;border-left: 1px solid gray;box-sizing: border-box;top: 0;bottom: 0;left: 50%;z-index: -1;}#sk-container-id-1 div.sk-parallel-item {display: flex;flex-direction: column;z-index: 1;position: relative;background-color: white;}#sk-container-id-1 div.sk-parallel-item:first-child::after {align-self: flex-end;width: 50%;}#sk-container-id-1 div.sk-parallel-item:last-child::after {align-self: flex-start;width: 50%;}#sk-container-id-1 div.sk-parallel-item:only-child::after {width: 0;}#sk-container-id-1 div.sk-dashed-wrapped {border: 1px dashed gray;margin: 0 0.4em 0.5em 0.4em;box-sizing: border-box;padding-bottom: 0.4em;background-color: white;}#sk-container-id-1 div.sk-label label {font-family: monospace;font-weight: bold;display: inline-block;line-height: 1.2em;}#sk-container-id-1 div.sk-label-container {text-align: center;}#sk-container-id-1 div.sk-container {/* jupyter's `normalize.less` sets `[hidden] { display: none; }` but bootstrap.min.css set `[hidden] { display: none !important; }` so we also need the `!important` here to be able to override the default hidden behavior on the sphinx rendered scikit-learn.org. See: https://github.com/scikit-learn/scikit-learn/issues/21755 */display: inline-block !important;position: relative;}#sk-container-id-1 div.sk-text-repr-fallback {display: none;}</style><div id=\"sk-container-id-1\" class=\"sk-top-container\"><div class=\"sk-text-repr-fallback\"><pre>DummyClassifier(strategy=&#x27;most_frequent&#x27;)</pre><b>In a Jupyter environment, please rerun this cell to show the HTML representation or trust the notebook. <br />On GitHub, the HTML representation is unable to render, please try loading this page with nbviewer.org.</b></div><div class=\"sk-container\" hidden><div class=\"sk-item\"><div class=\"sk-estimator sk-toggleable\"><input class=\"sk-toggleable__control sk-hidden--visually\" id=\"sk-estimator-id-1\" type=\"checkbox\" checked><label for=\"sk-estimator-id-1\" class=\"sk-toggleable__label sk-toggleable__label-arrow\">DummyClassifier</label><div class=\"sk-toggleable__content\"><pre>DummyClassifier(strategy=&#x27;most_frequent&#x27;)</pre></div></div></div></div></div>"
      ],
      "text/plain": [
       "DummyClassifier(strategy='most_frequent')"
      ]
     },
     "execution_count": 14,
     "metadata": {},
     "output_type": "execute_result"
    }
   ],
   "source": [
    "from sklearn.dummy import DummyClassifier\n",
    "\n",
    "dummy_clf = DummyClassifier(strategy=\"most_frequent\")\n",
    "\n",
    "dummy_clf.fit(train_x, train_y)"
   ]
  },
  {
   "cell_type": "code",
   "execution_count": 15,
   "metadata": {},
   "outputs": [],
   "source": [
    "from sklearn.metrics import accuracy_score"
   ]
  },
  {
   "cell_type": "code",
   "execution_count": 16,
   "metadata": {},
   "outputs": [
    {
     "name": "stdout",
     "output_type": "stream",
     "text": [
      "Baseline Train Accuracy: 0.5667828106852497\n"
     ]
    }
   ],
   "source": [
    "#Baseline Train Accuracy\n",
    "dummy_train_pred = dummy_clf.predict(train_x)\n",
    "\n",
    "baseline_train_acc = accuracy_score(train_y, dummy_train_pred)\n",
    "\n",
    "print('Baseline Train Accuracy: {}' .format(baseline_train_acc))"
   ]
  },
  {
   "cell_type": "code",
   "execution_count": 17,
   "metadata": {},
   "outputs": [
    {
     "name": "stdout",
     "output_type": "stream",
     "text": [
      "Baseline Test Accuracy: 0.5176151761517616\n"
     ]
    }
   ],
   "source": [
    "#Baseline Test Accuracy\n",
    "dummy_test_pred = dummy_clf.predict(test_x)\n",
    "\n",
    "baseline_test_acc = accuracy_score(test_y, dummy_test_pred)\n",
    "\n",
    "print('Baseline Test Accuracy: {}' .format(baseline_test_acc))"
   ]
  },
  {
   "cell_type": "markdown",
   "metadata": {},
   "source": [
    "# A normal (cross-sectional) NN\n",
    "\n",
    "This model assumes that the data is NOT a time-series data set. It treats the data as cross-sectional and the columns being independent of each other."
   ]
  },
  {
   "cell_type": "code",
   "execution_count": 18,
   "metadata": {},
   "outputs": [],
   "source": [
    "model = keras.models.Sequential([\n",
    "    \n",
    "    keras.layers.Flatten(input_shape=[36, 1]),\n",
    "    keras.layers.Dense(36, activation='relu'),\n",
    "    keras.layers.Dense(1, activation='sigmoid')\n",
    "    \n",
    "])"
   ]
  },
  {
   "cell_type": "code",
   "execution_count": 19,
   "metadata": {
    "scrolled": true
   },
   "outputs": [
    {
     "name": "stdout",
     "output_type": "stream",
     "text": [
      "Epoch 1/50\n",
      "27/27 [==============================] - 2s 19ms/step - loss: 0.8566 - accuracy: 0.7375 - val_loss: 0.8532 - val_accuracy: 0.6667\n",
      "Epoch 2/50\n",
      "27/27 [==============================] - 0s 6ms/step - loss: 0.4842 - accuracy: 0.7816 - val_loss: 0.5283 - val_accuracy: 0.7669\n",
      "Epoch 3/50\n",
      "27/27 [==============================] - 0s 6ms/step - loss: 0.4286 - accuracy: 0.8037 - val_loss: 0.5202 - val_accuracy: 0.7805\n",
      "Epoch 4/50\n",
      "27/27 [==============================] - 0s 6ms/step - loss: 0.3970 - accuracy: 0.8258 - val_loss: 0.5600 - val_accuracy: 0.7236\n",
      "Epoch 5/50\n",
      "27/27 [==============================] - 0s 6ms/step - loss: 0.3788 - accuracy: 0.8258 - val_loss: 0.5425 - val_accuracy: 0.7453\n",
      "Epoch 6/50\n",
      "27/27 [==============================] - 0s 6ms/step - loss: 0.3666 - accuracy: 0.8235 - val_loss: 0.5140 - val_accuracy: 0.7642\n",
      "Epoch 7/50\n",
      "27/27 [==============================] - 0s 6ms/step - loss: 0.3487 - accuracy: 0.8525 - val_loss: 0.5564 - val_accuracy: 0.7534\n",
      "Epoch 8/50\n",
      "27/27 [==============================] - 0s 5ms/step - loss: 0.3597 - accuracy: 0.8293 - val_loss: 0.5202 - val_accuracy: 0.7913\n",
      "Epoch 9/50\n",
      "27/27 [==============================] - 0s 6ms/step - loss: 0.3625 - accuracy: 0.8432 - val_loss: 0.5019 - val_accuracy: 0.7940\n",
      "Epoch 10/50\n",
      "27/27 [==============================] - 0s 6ms/step - loss: 0.3597 - accuracy: 0.8281 - val_loss: 0.5327 - val_accuracy: 0.7534\n",
      "Epoch 11/50\n",
      "27/27 [==============================] - 0s 6ms/step - loss: 0.3672 - accuracy: 0.8420 - val_loss: 0.5282 - val_accuracy: 0.7832\n",
      "Epoch 12/50\n",
      "27/27 [==============================] - 0s 7ms/step - loss: 0.3671 - accuracy: 0.8479 - val_loss: 0.5240 - val_accuracy: 0.7480\n",
      "Epoch 13/50\n",
      "27/27 [==============================] - 0s 5ms/step - loss: 0.3585 - accuracy: 0.8362 - val_loss: 0.5490 - val_accuracy: 0.7805\n",
      "Epoch 14/50\n",
      "27/27 [==============================] - 0s 6ms/step - loss: 0.3284 - accuracy: 0.8641 - val_loss: 0.4873 - val_accuracy: 0.7859\n",
      "Epoch 15/50\n",
      "27/27 [==============================] - 0s 6ms/step - loss: 0.3107 - accuracy: 0.8641 - val_loss: 0.4983 - val_accuracy: 0.7913\n",
      "Epoch 16/50\n",
      "27/27 [==============================] - 0s 5ms/step - loss: 0.3018 - accuracy: 0.8688 - val_loss: 0.5109 - val_accuracy: 0.7859\n",
      "Epoch 17/50\n",
      "27/27 [==============================] - 0s 6ms/step - loss: 0.3123 - accuracy: 0.8664 - val_loss: 0.5328 - val_accuracy: 0.7805\n",
      "Epoch 18/50\n",
      "27/27 [==============================] - 0s 6ms/step - loss: 0.3160 - accuracy: 0.8583 - val_loss: 0.5550 - val_accuracy: 0.7507\n",
      "Epoch 19/50\n",
      "27/27 [==============================] - 0s 6ms/step - loss: 0.3113 - accuracy: 0.8653 - val_loss: 0.5193 - val_accuracy: 0.7859\n",
      "Epoch 20/50\n",
      "27/27 [==============================] - 0s 6ms/step - loss: 0.3115 - accuracy: 0.8571 - val_loss: 0.5333 - val_accuracy: 0.7751\n",
      "Epoch 21/50\n",
      "27/27 [==============================] - 0s 6ms/step - loss: 0.3232 - accuracy: 0.8479 - val_loss: 0.5206 - val_accuracy: 0.8022\n",
      "Epoch 22/50\n",
      "27/27 [==============================] - 0s 6ms/step - loss: 0.2849 - accuracy: 0.8780 - val_loss: 0.5397 - val_accuracy: 0.7886\n",
      "Epoch 23/50\n",
      "27/27 [==============================] - 0s 6ms/step - loss: 0.2711 - accuracy: 0.8804 - val_loss: 0.5609 - val_accuracy: 0.7696\n",
      "Epoch 24/50\n",
      "27/27 [==============================] - 0s 6ms/step - loss: 0.2857 - accuracy: 0.8839 - val_loss: 0.6041 - val_accuracy: 0.7615\n",
      "Epoch 25/50\n",
      "27/27 [==============================] - 0s 6ms/step - loss: 0.2736 - accuracy: 0.8850 - val_loss: 0.5521 - val_accuracy: 0.7669\n",
      "Epoch 26/50\n",
      "27/27 [==============================] - 0s 6ms/step - loss: 0.2786 - accuracy: 0.8850 - val_loss: 0.5915 - val_accuracy: 0.7724\n",
      "Epoch 27/50\n",
      "27/27 [==============================] - 0s 6ms/step - loss: 0.2830 - accuracy: 0.8606 - val_loss: 0.5611 - val_accuracy: 0.7696\n",
      "Epoch 28/50\n",
      "27/27 [==============================] - 0s 6ms/step - loss: 0.2862 - accuracy: 0.8757 - val_loss: 0.5892 - val_accuracy: 0.7751\n",
      "Epoch 29/50\n",
      "27/27 [==============================] - 0s 6ms/step - loss: 0.2684 - accuracy: 0.8780 - val_loss: 0.6425 - val_accuracy: 0.7588\n",
      "Epoch 30/50\n",
      "27/27 [==============================] - 0s 6ms/step - loss: 0.2773 - accuracy: 0.8873 - val_loss: 0.6374 - val_accuracy: 0.7778\n",
      "Epoch 31/50\n",
      "27/27 [==============================] - 0s 6ms/step - loss: 0.3205 - accuracy: 0.8688 - val_loss: 0.5926 - val_accuracy: 0.7751\n",
      "Epoch 32/50\n",
      "27/27 [==============================] - 0s 6ms/step - loss: 0.2563 - accuracy: 0.8990 - val_loss: 0.5876 - val_accuracy: 0.7805\n",
      "Epoch 33/50\n",
      "27/27 [==============================] - 0s 5ms/step - loss: 0.2858 - accuracy: 0.8827 - val_loss: 0.5684 - val_accuracy: 0.7940\n",
      "Epoch 34/50\n",
      "27/27 [==============================] - 0s 6ms/step - loss: 0.2466 - accuracy: 0.8990 - val_loss: 0.5908 - val_accuracy: 0.7886\n",
      "Epoch 35/50\n",
      "27/27 [==============================] - 0s 6ms/step - loss: 0.2483 - accuracy: 0.9001 - val_loss: 0.6078 - val_accuracy: 0.7751\n",
      "Epoch 36/50\n",
      "27/27 [==============================] - 0s 7ms/step - loss: 0.2569 - accuracy: 0.8897 - val_loss: 0.5967 - val_accuracy: 0.7832\n",
      "Epoch 37/50\n",
      "27/27 [==============================] - 0s 6ms/step - loss: 0.2786 - accuracy: 0.8827 - val_loss: 0.6563 - val_accuracy: 0.7669\n",
      "Epoch 38/50\n",
      "27/27 [==============================] - 0s 6ms/step - loss: 0.2947 - accuracy: 0.8792 - val_loss: 0.6196 - val_accuracy: 0.7507\n",
      "Epoch 39/50\n",
      "27/27 [==============================] - 0s 5ms/step - loss: 0.2444 - accuracy: 0.9048 - val_loss: 0.6153 - val_accuracy: 0.7724\n",
      "Epoch 40/50\n",
      "27/27 [==============================] - 0s 6ms/step - loss: 0.2194 - accuracy: 0.9013 - val_loss: 0.6895 - val_accuracy: 0.7615\n",
      "Epoch 41/50\n",
      "27/27 [==============================] - 0s 6ms/step - loss: 0.2740 - accuracy: 0.8873 - val_loss: 0.6048 - val_accuracy: 0.8076\n",
      "Epoch 42/50\n",
      "27/27 [==============================] - 0s 6ms/step - loss: 0.2319 - accuracy: 0.9024 - val_loss: 0.6334 - val_accuracy: 0.7615\n",
      "Epoch 43/50\n",
      "27/27 [==============================] - 0s 5ms/step - loss: 0.2611 - accuracy: 0.8955 - val_loss: 0.6574 - val_accuracy: 0.7832\n",
      "Epoch 44/50\n",
      "27/27 [==============================] - 0s 6ms/step - loss: 0.2435 - accuracy: 0.9001 - val_loss: 0.6633 - val_accuracy: 0.7317\n",
      "Epoch 45/50\n",
      "27/27 [==============================] - 0s 6ms/step - loss: 0.2311 - accuracy: 0.9094 - val_loss: 0.6443 - val_accuracy: 0.7751\n",
      "Epoch 46/50\n",
      "27/27 [==============================] - 0s 5ms/step - loss: 0.2206 - accuracy: 0.9199 - val_loss: 0.7442 - val_accuracy: 0.8076\n",
      "Epoch 47/50\n",
      "27/27 [==============================] - 0s 6ms/step - loss: 0.2477 - accuracy: 0.9013 - val_loss: 0.6559 - val_accuracy: 0.7805\n",
      "Epoch 48/50\n",
      "27/27 [==============================] - 0s 5ms/step - loss: 0.2138 - accuracy: 0.9164 - val_loss: 0.6529 - val_accuracy: 0.7805\n",
      "Epoch 49/50\n",
      "27/27 [==============================] - 0s 5ms/step - loss: 0.2172 - accuracy: 0.9094 - val_loss: 0.6812 - val_accuracy: 0.7480\n",
      "Epoch 50/50\n",
      "27/27 [==============================] - 0s 6ms/step - loss: 0.2298 - accuracy: 0.9210 - val_loss: 0.7439 - val_accuracy: 0.7696\n"
     ]
    }
   ],
   "source": [
    "np.random.seed(42)\n",
    "tf.random.set_seed(42)\n",
    "\n",
    "optimizer = tf.keras.optimizers.Nadam(learning_rate=0.01)\n",
    "\n",
    "# If multiclass, use \"sparse_categorical_crossentropy\" as the loss function\n",
    "model.compile(loss=\"binary_crossentropy\", optimizer=optimizer, metrics=['accuracy'])\n",
    "\n",
    "\n",
    "history = model.fit(train_x, train_y, epochs=50,\n",
    "                    validation_data=(test_x, test_y))"
   ]
  },
  {
   "cell_type": "code",
   "execution_count": 20,
   "metadata": {},
   "outputs": [
    {
     "data": {
      "text/plain": [
       "[0.7438554763793945, 0.7696477174758911]"
      ]
     },
     "execution_count": 20,
     "metadata": {},
     "output_type": "execute_result"
    }
   ],
   "source": [
    "# evaluate the model\n",
    "\n",
    "scores = model.evaluate(test_x, test_y, verbose=0)\n",
    "\n",
    "scores\n",
    "\n",
    "# In results, first is loss, second is accuracy"
   ]
  },
  {
   "cell_type": "code",
   "execution_count": 21,
   "metadata": {},
   "outputs": [
    {
     "name": "stdout",
     "output_type": "stream",
     "text": [
      "loss: 0.74\n",
      "accuracy: 76.96%\n"
     ]
    }
   ],
   "source": [
    "# extract the accuracy from model.evaluate\n",
    "\n",
    "print(\"%s: %.2f\" % (model.metrics_names[0], scores[0]))\n",
    "print(\"%s: %.2f%%\" % (model.metrics_names[1], scores[1]*100))\n"
   ]
  },
  {
   "cell_type": "markdown",
   "metadata": {},
   "source": [
    "# Simple RNN with one layer"
   ]
  },
  {
   "cell_type": "code",
   "execution_count": 22,
   "metadata": {},
   "outputs": [],
   "source": [
    "n_steps = 36\n",
    "n_inputs = 1\n",
    "\n",
    "\n",
    "model = keras.models.Sequential([\n",
    "    \n",
    "    keras.layers.SimpleRNN(32, input_shape=[n_steps, n_inputs]),\n",
    "    keras.layers.Dense(1, activation='sigmoid')\n",
    "])"
   ]
  },
  {
   "cell_type": "code",
   "execution_count": 23,
   "metadata": {},
   "outputs": [],
   "source": [
    "from tensorflow.keras.callbacks import EarlyStopping\n",
    "\n",
    "\n",
    "earlystop = EarlyStopping(monitor='val_loss', patience=5, verbose=1, mode='auto')\n",
    "\n",
    "callback = [earlystop]"
   ]
  },
  {
   "cell_type": "code",
   "execution_count": 24,
   "metadata": {
    "scrolled": true
   },
   "outputs": [
    {
     "name": "stdout",
     "output_type": "stream",
     "text": [
      "Epoch 1/50\n",
      "27/27 [==============================] - 4s 36ms/step - loss: 0.4742 - accuracy: 0.7619 - val_loss: 0.4280 - val_accuracy: 0.7940\n",
      "Epoch 2/50\n",
      "27/27 [==============================] - 0s 17ms/step - loss: 0.3998 - accuracy: 0.8118 - val_loss: 0.4237 - val_accuracy: 0.7940\n",
      "Epoch 3/50\n",
      "27/27 [==============================] - 0s 16ms/step - loss: 0.3910 - accuracy: 0.8281 - val_loss: 0.4427 - val_accuracy: 0.7805\n",
      "Epoch 4/50\n",
      "27/27 [==============================] - 0s 17ms/step - loss: 0.3858 - accuracy: 0.8142 - val_loss: 0.4502 - val_accuracy: 0.7615\n",
      "Epoch 5/50\n",
      "27/27 [==============================] - 0s 16ms/step - loss: 0.3808 - accuracy: 0.8188 - val_loss: 0.4636 - val_accuracy: 0.7669\n",
      "Epoch 6/50\n",
      "27/27 [==============================] - 0s 17ms/step - loss: 0.3732 - accuracy: 0.8223 - val_loss: 0.4360 - val_accuracy: 0.7967\n",
      "Epoch 7/50\n",
      "27/27 [==============================] - 0s 17ms/step - loss: 0.3643 - accuracy: 0.8293 - val_loss: 0.4568 - val_accuracy: 0.7696\n",
      "Epoch 7: early stopping\n"
     ]
    }
   ],
   "source": [
    "np.random.seed(42)\n",
    "tf.random.set_seed(42)\n",
    "\n",
    "optimizer = tf.keras.optimizers.Nadam(learning_rate=0.01)\n",
    "\n",
    "# If multiclass, use \"sparse_categorical_crossentropy\" as the loss function\n",
    "model.compile(loss=\"binary_crossentropy\", optimizer=optimizer, metrics=['accuracy'])\n",
    "\n",
    "\n",
    "history = model.fit(train_x, train_y, epochs=50,\n",
    "                    validation_data=(test_x, test_y), callbacks=callback)"
   ]
  },
  {
   "cell_type": "code",
   "execution_count": 25,
   "metadata": {},
   "outputs": [
    {
     "data": {
      "text/plain": [
       "[0.45682111382484436, 0.7696477174758911]"
      ]
     },
     "execution_count": 25,
     "metadata": {},
     "output_type": "execute_result"
    }
   ],
   "source": [
    "# evaluate the model\n",
    "\n",
    "scores = model.evaluate(test_x, test_y, verbose=0)\n",
    "\n",
    "scores\n",
    "\n",
    "# In results, first is loss, second is accuracy"
   ]
  },
  {
   "cell_type": "code",
   "execution_count": 26,
   "metadata": {},
   "outputs": [
    {
     "name": "stdout",
     "output_type": "stream",
     "text": [
      "loss: 0.46\n",
      "accuracy: 76.96%\n"
     ]
    }
   ],
   "source": [
    "# extract the accuracy from model.evaluate\n",
    "\n",
    "print(\"%s: %.2f\" % (model.metrics_names[0], scores[0]))\n",
    "print(\"%s: %.2f%%\" % (model.metrics_names[1], scores[1]*100))\n"
   ]
  },
  {
   "cell_type": "code",
   "execution_count": 27,
   "metadata": {},
   "outputs": [
    {
     "name": "stdout",
     "output_type": "stream",
     "text": [
      "12/12 [==============================] - 0s 4ms/step\n"
     ]
    }
   ],
   "source": [
    "# Predictions are probabilities.\n",
    "\n",
    "predictions = model.predict(test_x)"
   ]
  },
  {
   "cell_type": "code",
   "execution_count": 28,
   "metadata": {},
   "outputs": [
    {
     "data": {
      "text/plain": [
       "array([[0.],\n",
       "       [1.],\n",
       "       [0.],\n",
       "       [0.],\n",
       "       [0.],\n",
       "       [0.],\n",
       "       [1.],\n",
       "       [0.],\n",
       "       [0.],\n",
       "       [0.],\n",
       "       [0.],\n",
       "       [1.],\n",
       "       [0.],\n",
       "       [1.],\n",
       "       [1.],\n",
       "       [1.],\n",
       "       [1.],\n",
       "       [1.],\n",
       "       [1.],\n",
       "       [0.],\n",
       "       [0.],\n",
       "       [1.],\n",
       "       [1.],\n",
       "       [1.],\n",
       "       [1.],\n",
       "       [1.],\n",
       "       [1.],\n",
       "       [1.],\n",
       "       [1.],\n",
       "       [0.],\n",
       "       [1.],\n",
       "       [1.],\n",
       "       [0.],\n",
       "       [0.],\n",
       "       [0.],\n",
       "       [0.],\n",
       "       [0.],\n",
       "       [1.],\n",
       "       [1.],\n",
       "       [0.],\n",
       "       [1.],\n",
       "       [1.],\n",
       "       [0.],\n",
       "       [0.],\n",
       "       [0.],\n",
       "       [1.],\n",
       "       [1.],\n",
       "       [1.],\n",
       "       [0.],\n",
       "       [1.],\n",
       "       [1.],\n",
       "       [1.],\n",
       "       [0.],\n",
       "       [1.],\n",
       "       [0.],\n",
       "       [1.],\n",
       "       [0.],\n",
       "       [0.],\n",
       "       [1.],\n",
       "       [0.],\n",
       "       [0.],\n",
       "       [1.],\n",
       "       [0.],\n",
       "       [1.],\n",
       "       [1.],\n",
       "       [0.],\n",
       "       [1.],\n",
       "       [1.],\n",
       "       [1.],\n",
       "       [1.],\n",
       "       [0.],\n",
       "       [1.],\n",
       "       [0.],\n",
       "       [1.],\n",
       "       [0.],\n",
       "       [0.],\n",
       "       [0.],\n",
       "       [1.],\n",
       "       [1.],\n",
       "       [1.],\n",
       "       [0.],\n",
       "       [1.],\n",
       "       [0.],\n",
       "       [0.],\n",
       "       [0.],\n",
       "       [0.],\n",
       "       [1.],\n",
       "       [0.],\n",
       "       [0.],\n",
       "       [1.],\n",
       "       [1.],\n",
       "       [1.],\n",
       "       [0.],\n",
       "       [0.],\n",
       "       [1.],\n",
       "       [0.],\n",
       "       [1.],\n",
       "       [1.],\n",
       "       [0.],\n",
       "       [1.],\n",
       "       [1.],\n",
       "       [1.],\n",
       "       [1.],\n",
       "       [1.],\n",
       "       [1.],\n",
       "       [0.],\n",
       "       [0.],\n",
       "       [0.],\n",
       "       [1.],\n",
       "       [1.],\n",
       "       [0.],\n",
       "       [0.],\n",
       "       [0.],\n",
       "       [0.],\n",
       "       [0.],\n",
       "       [1.],\n",
       "       [0.],\n",
       "       [1.],\n",
       "       [1.],\n",
       "       [1.],\n",
       "       [1.],\n",
       "       [0.],\n",
       "       [0.],\n",
       "       [0.],\n",
       "       [1.],\n",
       "       [0.],\n",
       "       [1.],\n",
       "       [0.],\n",
       "       [1.],\n",
       "       [0.],\n",
       "       [0.],\n",
       "       [1.],\n",
       "       [1.],\n",
       "       [1.],\n",
       "       [1.],\n",
       "       [1.],\n",
       "       [0.],\n",
       "       [0.],\n",
       "       [1.],\n",
       "       [1.],\n",
       "       [0.],\n",
       "       [1.],\n",
       "       [1.],\n",
       "       [1.],\n",
       "       [1.],\n",
       "       [1.],\n",
       "       [1.],\n",
       "       [1.],\n",
       "       [0.],\n",
       "       [0.],\n",
       "       [0.],\n",
       "       [1.],\n",
       "       [0.],\n",
       "       [1.],\n",
       "       [0.],\n",
       "       [1.],\n",
       "       [0.],\n",
       "       [1.],\n",
       "       [1.],\n",
       "       [1.],\n",
       "       [1.],\n",
       "       [0.],\n",
       "       [1.],\n",
       "       [1.],\n",
       "       [0.],\n",
       "       [1.],\n",
       "       [1.],\n",
       "       [0.],\n",
       "       [0.],\n",
       "       [0.],\n",
       "       [1.],\n",
       "       [1.],\n",
       "       [0.],\n",
       "       [0.],\n",
       "       [1.],\n",
       "       [1.],\n",
       "       [1.],\n",
       "       [1.],\n",
       "       [0.],\n",
       "       [1.],\n",
       "       [0.],\n",
       "       [0.],\n",
       "       [0.],\n",
       "       [0.],\n",
       "       [0.],\n",
       "       [0.],\n",
       "       [0.],\n",
       "       [0.],\n",
       "       [0.],\n",
       "       [0.],\n",
       "       [1.],\n",
       "       [1.],\n",
       "       [0.],\n",
       "       [0.],\n",
       "       [0.],\n",
       "       [0.],\n",
       "       [1.],\n",
       "       [1.],\n",
       "       [0.],\n",
       "       [1.],\n",
       "       [1.],\n",
       "       [1.],\n",
       "       [0.],\n",
       "       [0.],\n",
       "       [1.],\n",
       "       [0.],\n",
       "       [1.],\n",
       "       [1.],\n",
       "       [1.],\n",
       "       [1.],\n",
       "       [1.],\n",
       "       [0.],\n",
       "       [1.],\n",
       "       [1.],\n",
       "       [0.],\n",
       "       [1.],\n",
       "       [1.],\n",
       "       [1.],\n",
       "       [1.],\n",
       "       [1.],\n",
       "       [0.],\n",
       "       [1.],\n",
       "       [0.],\n",
       "       [0.],\n",
       "       [0.],\n",
       "       [1.],\n",
       "       [1.],\n",
       "       [0.],\n",
       "       [0.],\n",
       "       [1.],\n",
       "       [0.],\n",
       "       [1.],\n",
       "       [1.],\n",
       "       [1.],\n",
       "       [1.],\n",
       "       [0.],\n",
       "       [1.],\n",
       "       [0.],\n",
       "       [1.],\n",
       "       [1.],\n",
       "       [0.],\n",
       "       [0.],\n",
       "       [1.],\n",
       "       [1.],\n",
       "       [1.],\n",
       "       [1.],\n",
       "       [0.],\n",
       "       [0.],\n",
       "       [0.],\n",
       "       [1.],\n",
       "       [0.],\n",
       "       [1.],\n",
       "       [0.],\n",
       "       [0.],\n",
       "       [0.],\n",
       "       [1.],\n",
       "       [1.],\n",
       "       [1.],\n",
       "       [1.],\n",
       "       [1.],\n",
       "       [0.],\n",
       "       [0.],\n",
       "       [1.],\n",
       "       [1.],\n",
       "       [1.],\n",
       "       [1.],\n",
       "       [1.],\n",
       "       [0.],\n",
       "       [1.],\n",
       "       [1.],\n",
       "       [1.],\n",
       "       [1.],\n",
       "       [0.],\n",
       "       [1.],\n",
       "       [1.],\n",
       "       [1.],\n",
       "       [0.],\n",
       "       [1.],\n",
       "       [1.],\n",
       "       [0.],\n",
       "       [1.],\n",
       "       [1.],\n",
       "       [0.],\n",
       "       [0.],\n",
       "       [1.],\n",
       "       [1.],\n",
       "       [0.],\n",
       "       [0.],\n",
       "       [1.],\n",
       "       [0.],\n",
       "       [1.],\n",
       "       [0.],\n",
       "       [1.],\n",
       "       [1.],\n",
       "       [1.],\n",
       "       [1.],\n",
       "       [1.],\n",
       "       [1.],\n",
       "       [0.],\n",
       "       [1.],\n",
       "       [1.],\n",
       "       [0.],\n",
       "       [0.],\n",
       "       [1.],\n",
       "       [0.],\n",
       "       [0.],\n",
       "       [1.],\n",
       "       [0.],\n",
       "       [1.],\n",
       "       [1.],\n",
       "       [0.],\n",
       "       [1.],\n",
       "       [1.],\n",
       "       [1.],\n",
       "       [1.],\n",
       "       [1.],\n",
       "       [1.],\n",
       "       [1.],\n",
       "       [0.],\n",
       "       [0.],\n",
       "       [1.],\n",
       "       [0.],\n",
       "       [1.],\n",
       "       [1.],\n",
       "       [0.],\n",
       "       [0.],\n",
       "       [1.],\n",
       "       [0.],\n",
       "       [1.],\n",
       "       [0.],\n",
       "       [1.],\n",
       "       [1.],\n",
       "       [0.],\n",
       "       [1.],\n",
       "       [0.],\n",
       "       [1.],\n",
       "       [1.],\n",
       "       [1.],\n",
       "       [1.],\n",
       "       [1.],\n",
       "       [0.],\n",
       "       [0.],\n",
       "       [1.],\n",
       "       [0.],\n",
       "       [0.],\n",
       "       [1.],\n",
       "       [1.],\n",
       "       [0.],\n",
       "       [1.],\n",
       "       [0.],\n",
       "       [1.],\n",
       "       [1.],\n",
       "       [0.],\n",
       "       [1.],\n",
       "       [1.],\n",
       "       [0.],\n",
       "       [0.],\n",
       "       [0.],\n",
       "       [0.],\n",
       "       [0.],\n",
       "       [0.],\n",
       "       [0.],\n",
       "       [0.],\n",
       "       [1.],\n",
       "       [1.],\n",
       "       [0.],\n",
       "       [0.],\n",
       "       [1.],\n",
       "       [1.]], dtype=float32)"
      ]
     },
     "execution_count": 28,
     "metadata": {},
     "output_type": "execute_result"
    }
   ],
   "source": [
    "# Rounding the probabilities determines 1 or 0\n",
    "\n",
    "np.round(predictions)"
   ]
  },
  {
   "cell_type": "code",
   "execution_count": 29,
   "metadata": {},
   "outputs": [
    {
     "data": {
      "text/plain": [
       "array([[128,  50],\n",
       "       [ 35, 156]], dtype=int64)"
      ]
     },
     "execution_count": 29,
     "metadata": {},
     "output_type": "execute_result"
    }
   ],
   "source": [
    "from sklearn.metrics import confusion_matrix\n",
    "\n",
    "confusion_matrix(test_y, np.round(predictions))"
   ]
  },
  {
   "cell_type": "markdown",
   "metadata": {},
   "source": [
    "# Deep RNN\n",
    "\n",
    "**Be careful: when stacking RNN layers, you have to set \"return_sequences\" to True. This enables the layer to send a \"sequence\" of values to the next layer -- jut like how it uses a sequence of values for training.**\n",
    "\n",
    "**Since the last layer is DENSE, it can't take sequence data. Therefore, you CANNOT return sequences from the previous layer. So, remove** `return_sequences` **from previous layer.**"
   ]
  },
  {
   "cell_type": "code",
   "execution_count": 30,
   "metadata": {},
   "outputs": [],
   "source": [
    "n_steps = 36\n",
    "n_inputs = 1\n",
    "\n",
    "\n",
    "model = keras.models.Sequential([\n",
    "    keras.layers.SimpleRNN(32, return_sequences=True, input_shape=[n_steps, n_inputs] ),\n",
    "    keras.layers.SimpleRNN(32, return_sequences=True),\n",
    "    keras.layers.SimpleRNN(32), \n",
    "    keras.layers.Dense(1, activation='sigmoid')\n",
    "])\n"
   ]
  },
  {
   "cell_type": "code",
   "execution_count": 31,
   "metadata": {
    "scrolled": true
   },
   "outputs": [
    {
     "name": "stdout",
     "output_type": "stream",
     "text": [
      "Epoch 1/20\n",
      "27/27 [==============================] - 9s 78ms/step - loss: 0.4485 - accuracy: 0.7898 - val_loss: 0.4517 - val_accuracy: 0.7940\n",
      "Epoch 2/20\n",
      "27/27 [==============================] - 1s 40ms/step - loss: 0.4124 - accuracy: 0.8060 - val_loss: 0.4548 - val_accuracy: 0.7209\n",
      "Epoch 3/20\n",
      "27/27 [==============================] - 1s 39ms/step - loss: 0.3937 - accuracy: 0.8153 - val_loss: 0.4690 - val_accuracy: 0.7588\n",
      "Epoch 4/20\n",
      "27/27 [==============================] - 1s 40ms/step - loss: 0.3774 - accuracy: 0.8165 - val_loss: 0.4589 - val_accuracy: 0.7615\n",
      "Epoch 5/20\n",
      "27/27 [==============================] - 1s 40ms/step - loss: 0.3800 - accuracy: 0.8200 - val_loss: 0.4635 - val_accuracy: 0.7995\n",
      "Epoch 6/20\n",
      "27/27 [==============================] - 1s 40ms/step - loss: 0.3902 - accuracy: 0.8211 - val_loss: 0.4438 - val_accuracy: 0.7778\n",
      "Epoch 7/20\n",
      "27/27 [==============================] - 1s 39ms/step - loss: 0.3642 - accuracy: 0.8269 - val_loss: 0.4551 - val_accuracy: 0.7778\n",
      "Epoch 8/20\n",
      "27/27 [==============================] - 1s 40ms/step - loss: 0.3672 - accuracy: 0.8235 - val_loss: 0.4783 - val_accuracy: 0.7669\n",
      "Epoch 9/20\n",
      "27/27 [==============================] - 1s 35ms/step - loss: 0.3347 - accuracy: 0.8479 - val_loss: 0.4971 - val_accuracy: 0.7588\n",
      "Epoch 10/20\n",
      "27/27 [==============================] - 1s 38ms/step - loss: 0.3620 - accuracy: 0.8328 - val_loss: 0.4787 - val_accuracy: 0.7398\n",
      "Epoch 11/20\n",
      "27/27 [==============================] - 1s 40ms/step - loss: 0.3631 - accuracy: 0.8293 - val_loss: 0.4475 - val_accuracy: 0.7805\n",
      "Epoch 11: early stopping\n"
     ]
    }
   ],
   "source": [
    "np.random.seed(42)\n",
    "tf.random.set_seed(42)\n",
    "\n",
    "optimizer = keras.optimizers.Nadam(learning_rate=0.01)\n",
    "\n",
    "model.compile(loss=\"binary_crossentropy\", optimizer=optimizer, metrics=['accuracy'])\n",
    "\n",
    "history = model.fit(train_x, train_y, epochs=20,\n",
    "                   validation_data = (test_x, test_y), callbacks=callback)"
   ]
  },
  {
   "cell_type": "code",
   "execution_count": 32,
   "metadata": {},
   "outputs": [
    {
     "data": {
      "text/plain": [
       "[0.44745948910713196, 0.7804877758026123]"
      ]
     },
     "execution_count": 32,
     "metadata": {},
     "output_type": "execute_result"
    }
   ],
   "source": [
    "# evaluate the model\n",
    "\n",
    "scores = model.evaluate(test_x, test_y, verbose=0)\n",
    "\n",
    "scores\n",
    "\n",
    "# In results, first is loss, second is accuracy"
   ]
  },
  {
   "cell_type": "code",
   "execution_count": 33,
   "metadata": {
    "scrolled": true
   },
   "outputs": [
    {
     "name": "stdout",
     "output_type": "stream",
     "text": [
      "loss: 0.45\n",
      "accuracy: 78.05%\n"
     ]
    }
   ],
   "source": [
    "# extract the accuracy from model.evaluate\n",
    "\n",
    "print(\"%s: %.2f\" % (model.metrics_names[0], scores[0]))\n",
    "print(\"%s: %.2f%%\" % (model.metrics_names[1], scores[1]*100))\n"
   ]
  },
  {
   "cell_type": "markdown",
   "metadata": {},
   "source": [
    "# LSTM with one layer"
   ]
  },
  {
   "cell_type": "code",
   "execution_count": 34,
   "metadata": {},
   "outputs": [],
   "source": [
    "n_steps = 36\n",
    "n_inputs = 1\n",
    "\n",
    "model = keras.models.Sequential([\n",
    "    \n",
    "    keras.layers.LSTM(32, input_shape=[n_steps, n_inputs]),\n",
    "    keras.layers.Dense(1, activation='sigmoid')\n",
    "])"
   ]
  },
  {
   "cell_type": "code",
   "execution_count": 35,
   "metadata": {
    "scrolled": true
   },
   "outputs": [
    {
     "name": "stdout",
     "output_type": "stream",
     "text": [
      "Epoch 1/20\n",
      "27/27 [==============================] - 7s 67ms/step - loss: 0.4751 - accuracy: 0.7793 - val_loss: 0.4393 - val_accuracy: 0.7913\n",
      "Epoch 2/20\n",
      "27/27 [==============================] - 1s 29ms/step - loss: 0.4100 - accuracy: 0.8200 - val_loss: 0.4282 - val_accuracy: 0.7967\n",
      "Epoch 3/20\n",
      "27/27 [==============================] - 1s 28ms/step - loss: 0.4008 - accuracy: 0.8118 - val_loss: 0.4298 - val_accuracy: 0.7913\n",
      "Epoch 4/20\n",
      "27/27 [==============================] - 1s 30ms/step - loss: 0.3996 - accuracy: 0.8223 - val_loss: 0.4214 - val_accuracy: 0.7967\n",
      "Epoch 5/20\n",
      "27/27 [==============================] - 1s 29ms/step - loss: 0.3983 - accuracy: 0.8188 - val_loss: 0.4313 - val_accuracy: 0.7751\n",
      "Epoch 6/20\n",
      "27/27 [==============================] - 1s 29ms/step - loss: 0.3929 - accuracy: 0.8130 - val_loss: 0.4226 - val_accuracy: 0.8049\n",
      "Epoch 7/20\n",
      "27/27 [==============================] - 1s 29ms/step - loss: 0.3892 - accuracy: 0.8095 - val_loss: 0.4428 - val_accuracy: 0.7832\n",
      "Epoch 8/20\n",
      "27/27 [==============================] - 1s 29ms/step - loss: 0.3867 - accuracy: 0.8188 - val_loss: 0.4292 - val_accuracy: 0.7886\n",
      "Epoch 9/20\n",
      "27/27 [==============================] - 1s 29ms/step - loss: 0.3906 - accuracy: 0.8223 - val_loss: 0.4363 - val_accuracy: 0.7751\n",
      "Epoch 9: early stopping\n"
     ]
    }
   ],
   "source": [
    "np.random.seed(42)\n",
    "tf.random.set_seed(42)\n",
    "\n",
    "optimizer = keras.optimizers.Nadam(learning_rate=0.01)\n",
    "\n",
    "model.compile(loss=\"binary_crossentropy\", optimizer=optimizer, metrics=['accuracy'])\n",
    "\n",
    "history = model.fit(train_x, train_y, epochs=20,\n",
    "                   validation_data = (test_x, test_y), callbacks=callback)"
   ]
  },
  {
   "cell_type": "code",
   "execution_count": 36,
   "metadata": {},
   "outputs": [
    {
     "data": {
      "text/plain": [
       "[0.43633052706718445, 0.7750677466392517]"
      ]
     },
     "execution_count": 36,
     "metadata": {},
     "output_type": "execute_result"
    }
   ],
   "source": [
    "# evaluate the model\n",
    "\n",
    "scores = model.evaluate(test_x, test_y, verbose=0)\n",
    "\n",
    "scores\n",
    "\n",
    "# In results, first is loss, second is accuracy"
   ]
  },
  {
   "cell_type": "code",
   "execution_count": 37,
   "metadata": {
    "scrolled": true
   },
   "outputs": [
    {
     "name": "stdout",
     "output_type": "stream",
     "text": [
      "loss: 0.44\n",
      "accuracy: 77.51%\n"
     ]
    }
   ],
   "source": [
    "# extract the accuracy from model.evaluate\n",
    "\n",
    "print(\"%s: %.2f\" % (model.metrics_names[0], scores[0]))\n",
    "print(\"%s: %.2f%%\" % (model.metrics_names[1], scores[1]*100))\n"
   ]
  },
  {
   "cell_type": "markdown",
   "metadata": {},
   "source": [
    "# LSTM with more layers"
   ]
  },
  {
   "cell_type": "code",
   "execution_count": 38,
   "metadata": {},
   "outputs": [],
   "source": [
    "n_steps = 36\n",
    "n_inputs = 1\n",
    "\n",
    "model = keras.models.Sequential([\n",
    "    keras.layers.LSTM(32, return_sequences=True, input_shape=[n_steps, n_inputs]),\n",
    "    keras.layers.LSTM(32, return_sequences=True),\n",
    "    keras.layers.LSTM(32),\n",
    "    keras.layers.Dense(1, activation='sigmoid')\n",
    "])"
   ]
  },
  {
   "cell_type": "code",
   "execution_count": 39,
   "metadata": {
    "scrolled": true
   },
   "outputs": [
    {
     "name": "stdout",
     "output_type": "stream",
     "text": [
      "Epoch 1/20\n",
      "27/27 [==============================] - 17s 171ms/step - loss: 0.5180 - accuracy: 0.7433 - val_loss: 0.4581 - val_accuracy: 0.7913\n",
      "Epoch 2/20\n",
      "27/27 [==============================] - 2s 78ms/step - loss: 0.4207 - accuracy: 0.7979 - val_loss: 0.4251 - val_accuracy: 0.7669\n",
      "Epoch 3/20\n",
      "27/27 [==============================] - 2s 81ms/step - loss: 0.4094 - accuracy: 0.8130 - val_loss: 0.4308 - val_accuracy: 0.7669\n",
      "Epoch 4/20\n",
      "27/27 [==============================] - 2s 80ms/step - loss: 0.3994 - accuracy: 0.8107 - val_loss: 0.4482 - val_accuracy: 0.7561\n",
      "Epoch 5/20\n",
      "27/27 [==============================] - 2s 78ms/step - loss: 0.4112 - accuracy: 0.8177 - val_loss: 0.4367 - val_accuracy: 0.7696\n",
      "Epoch 6/20\n",
      "27/27 [==============================] - 2s 79ms/step - loss: 0.4005 - accuracy: 0.8084 - val_loss: 0.4271 - val_accuracy: 0.7859\n",
      "Epoch 7/20\n",
      "27/27 [==============================] - 2s 79ms/step - loss: 0.3900 - accuracy: 0.8223 - val_loss: 0.4430 - val_accuracy: 0.7886\n",
      "Epoch 7: early stopping\n"
     ]
    }
   ],
   "source": [
    "np.random.seed(42)\n",
    "tf.random.set_seed(42)\n",
    "\n",
    "optimizer = keras.optimizers.Nadam(learning_rate=0.01)\n",
    "\n",
    "model.compile(loss=\"binary_crossentropy\", optimizer=optimizer, metrics=['accuracy'])\n",
    "\n",
    "history = model.fit(train_x, train_y, epochs=20,\n",
    "                   validation_data = (test_x, test_y), callbacks=callback)"
   ]
  },
  {
   "cell_type": "code",
   "execution_count": 40,
   "metadata": {},
   "outputs": [
    {
     "data": {
      "text/plain": [
       "[0.4430147111415863, 0.7886179089546204]"
      ]
     },
     "execution_count": 40,
     "metadata": {},
     "output_type": "execute_result"
    }
   ],
   "source": [
    "# evaluate the model\n",
    "\n",
    "scores = model.evaluate(test_x, test_y, verbose=0)\n",
    "\n",
    "scores\n",
    "\n",
    "# In results, first is loss, second is accuracy"
   ]
  },
  {
   "cell_type": "code",
   "execution_count": 41,
   "metadata": {
    "scrolled": true
   },
   "outputs": [
    {
     "name": "stdout",
     "output_type": "stream",
     "text": [
      "loss: 0.44\n",
      "accuracy: 78.86%\n"
     ]
    }
   ],
   "source": [
    "# extract the accuracy from model.evaluate\n",
    "\n",
    "print(\"%s: %.2f\" % (model.metrics_names[0], scores[0]))\n",
    "print(\"%s: %.2f%%\" % (model.metrics_names[1], scores[1]*100))\n"
   ]
  },
  {
   "cell_type": "markdown",
   "metadata": {},
   "source": [
    "# GRU with one layer"
   ]
  },
  {
   "cell_type": "code",
   "execution_count": 42,
   "metadata": {},
   "outputs": [],
   "source": [
    "n_steps = 36\n",
    "n_inputs = 1\n",
    "\n",
    "model = keras.models.Sequential([\n",
    "    keras.layers.GRU(32, input_shape=[n_steps, n_inputs]),\n",
    "    keras.layers.Dense(1, activation='sigmoid')\n",
    "])"
   ]
  },
  {
   "cell_type": "code",
   "execution_count": 43,
   "metadata": {
    "scrolled": true
   },
   "outputs": [
    {
     "name": "stdout",
     "output_type": "stream",
     "text": [
      "Epoch 1/20\n",
      "27/27 [==============================] - 8s 74ms/step - loss: 0.4657 - accuracy: 0.7607 - val_loss: 0.4342 - val_accuracy: 0.7859\n",
      "Epoch 2/20\n",
      "27/27 [==============================] - 1s 32ms/step - loss: 0.4024 - accuracy: 0.8188 - val_loss: 0.4285 - val_accuracy: 0.7913\n",
      "Epoch 3/20\n",
      "27/27 [==============================] - 1s 31ms/step - loss: 0.3974 - accuracy: 0.8153 - val_loss: 0.4268 - val_accuracy: 0.7778\n",
      "Epoch 4/20\n",
      "27/27 [==============================] - 1s 32ms/step - loss: 0.3960 - accuracy: 0.8118 - val_loss: 0.4287 - val_accuracy: 0.7778\n",
      "Epoch 5/20\n",
      "27/27 [==============================] - 1s 31ms/step - loss: 0.4000 - accuracy: 0.8177 - val_loss: 0.4265 - val_accuracy: 0.7913\n",
      "Epoch 6/20\n",
      "27/27 [==============================] - 1s 31ms/step - loss: 0.3932 - accuracy: 0.8153 - val_loss: 0.4269 - val_accuracy: 0.7967\n",
      "Epoch 7/20\n",
      "27/27 [==============================] - 1s 31ms/step - loss: 0.3853 - accuracy: 0.8130 - val_loss: 0.4340 - val_accuracy: 0.7859\n",
      "Epoch 8/20\n",
      "27/27 [==============================] - 1s 31ms/step - loss: 0.3828 - accuracy: 0.8246 - val_loss: 0.4296 - val_accuracy: 0.7751\n",
      "Epoch 9/20\n",
      "27/27 [==============================] - 1s 30ms/step - loss: 0.3853 - accuracy: 0.8211 - val_loss: 0.4321 - val_accuracy: 0.7778\n",
      "Epoch 10/20\n",
      "27/27 [==============================] - 1s 31ms/step - loss: 0.3764 - accuracy: 0.8165 - val_loss: 0.4382 - val_accuracy: 0.7669\n",
      "Epoch 10: early stopping\n"
     ]
    }
   ],
   "source": [
    "np.random.seed(42)\n",
    "tf.random.set_seed(42)\n",
    "\n",
    "optimizer = keras.optimizers.Nadam(learning_rate=0.01)\n",
    "\n",
    "model.compile(loss=\"binary_crossentropy\", optimizer=optimizer, metrics=['accuracy'])\n",
    "\n",
    "history = model.fit(train_x, train_y, epochs=20,\n",
    "                   validation_data = (test_x, test_y), callbacks=callback)"
   ]
  },
  {
   "cell_type": "code",
   "execution_count": 44,
   "metadata": {},
   "outputs": [
    {
     "data": {
      "text/plain": [
       "[0.43816283345222473, 0.7669376730918884]"
      ]
     },
     "execution_count": 44,
     "metadata": {},
     "output_type": "execute_result"
    }
   ],
   "source": [
    "# evaluate the model\n",
    "\n",
    "scores = model.evaluate(test_x, test_y, verbose=0)\n",
    "\n",
    "scores\n",
    "\n",
    "# In results, first is loss, second is accuracy"
   ]
  },
  {
   "cell_type": "code",
   "execution_count": 45,
   "metadata": {
    "scrolled": false
   },
   "outputs": [
    {
     "name": "stdout",
     "output_type": "stream",
     "text": [
      "loss: 0.44\n",
      "accuracy: 76.69%\n"
     ]
    }
   ],
   "source": [
    "# extract the accuracy from model.evaluate\n",
    "\n",
    "print(\"%s: %.2f\" % (model.metrics_names[0], scores[0]))\n",
    "print(\"%s: %.2f%%\" % (model.metrics_names[1], scores[1]*100))\n"
   ]
  },
  {
   "cell_type": "markdown",
   "metadata": {},
   "source": [
    "# GRU with more layers"
   ]
  },
  {
   "cell_type": "code",
   "execution_count": 46,
   "metadata": {},
   "outputs": [],
   "source": [
    "n_steps = 36\n",
    "n_inputs = 1\n",
    "\n",
    "model = keras.models.Sequential([\n",
    "    keras.layers.GRU(32, return_sequences=True, input_shape=[n_steps, n_inputs]),\n",
    "    keras.layers.GRU(32, return_sequences=True),\n",
    "    keras.layers.GRU(32),\n",
    "    keras.layers.Dense(1, activation='sigmoid')\n",
    "])"
   ]
  },
  {
   "cell_type": "code",
   "execution_count": 47,
   "metadata": {
    "scrolled": true
   },
   "outputs": [
    {
     "name": "stdout",
     "output_type": "stream",
     "text": [
      "Epoch 1/20\n",
      "27/27 [==============================] - 17s 165ms/step - loss: 0.4522 - accuracy: 0.7875 - val_loss: 0.4317 - val_accuracy: 0.7913\n",
      "Epoch 2/20\n",
      "27/27 [==============================] - 2s 81ms/step - loss: 0.4090 - accuracy: 0.8211 - val_loss: 0.4239 - val_accuracy: 0.7724\n",
      "Epoch 3/20\n",
      "27/27 [==============================] - 2s 84ms/step - loss: 0.4028 - accuracy: 0.8095 - val_loss: 0.4334 - val_accuracy: 0.7751\n",
      "Epoch 4/20\n",
      "27/27 [==============================] - 2s 85ms/step - loss: 0.3968 - accuracy: 0.8200 - val_loss: 0.4443 - val_accuracy: 0.7778\n",
      "Epoch 5/20\n",
      "27/27 [==============================] - 2s 85ms/step - loss: 0.4039 - accuracy: 0.8142 - val_loss: 0.4401 - val_accuracy: 0.7778\n",
      "Epoch 6/20\n",
      "27/27 [==============================] - 2s 83ms/step - loss: 0.4113 - accuracy: 0.8084 - val_loss: 0.4244 - val_accuracy: 0.8049\n",
      "Epoch 7/20\n",
      "27/27 [==============================] - 2s 84ms/step - loss: 0.3944 - accuracy: 0.8049 - val_loss: 0.4341 - val_accuracy: 0.7886\n",
      "Epoch 7: early stopping\n"
     ]
    }
   ],
   "source": [
    "np.random.seed(42)\n",
    "tf.random.set_seed(42)\n",
    "\n",
    "optimizer = keras.optimizers.Nadam(learning_rate=0.01)\n",
    "\n",
    "model.compile(loss=\"binary_crossentropy\", optimizer=optimizer, metrics=['accuracy'])\n",
    "\n",
    "history = model.fit(train_x, train_y, epochs=20,\n",
    "                   validation_data = (test_x, test_y), callbacks=callback)"
   ]
  },
  {
   "cell_type": "code",
   "execution_count": 48,
   "metadata": {},
   "outputs": [
    {
     "data": {
      "text/plain": [
       "[0.43410399556159973, 0.7886179089546204]"
      ]
     },
     "execution_count": 48,
     "metadata": {},
     "output_type": "execute_result"
    }
   ],
   "source": [
    "# evaluate the model\n",
    "\n",
    "scores = model.evaluate(test_x, test_y, verbose=0)\n",
    "\n",
    "scores\n",
    "\n",
    "# In results, first is loss, second is accuracy"
   ]
  },
  {
   "cell_type": "code",
   "execution_count": 49,
   "metadata": {
    "scrolled": false
   },
   "outputs": [
    {
     "name": "stdout",
     "output_type": "stream",
     "text": [
      "loss: 0.43\n",
      "accuracy: 78.86%\n"
     ]
    }
   ],
   "source": [
    "# extract the accuracy from model.evaluate\n",
    "\n",
    "print(\"%s: %.2f\" % (model.metrics_names[0], scores[0]))\n",
    "print(\"%s: %.2f%%\" % (model.metrics_names[1], scores[1]*100))\n"
   ]
  },
  {
   "cell_type": "markdown",
   "metadata": {},
   "source": [
    "# Conv1D"
   ]
  },
  {
   "cell_type": "code",
   "execution_count": 50,
   "metadata": {},
   "outputs": [
    {
     "name": "stdout",
     "output_type": "stream",
     "text": [
      "Model: \"sequential_7\"\n",
      "_________________________________________________________________\n",
      " Layer (type)                Output Shape              Param #   \n",
      "=================================================================\n",
      " conv1d (Conv1D)             (None, 17, 10)            40        \n",
      "                                                                 \n",
      " conv1d_1 (Conv1D)           (None, 13, 20)            620       \n",
      "                                                                 \n",
      " lstm_4 (LSTM)               (None, 13, 32)            6784      \n",
      "                                                                 \n",
      " lstm_5 (LSTM)               (None, 32)                8320      \n",
      "                                                                 \n",
      " dense_8 (Dense)             (None, 1)                 33        \n",
      "                                                                 \n",
      "=================================================================\n",
      "Total params: 15,797\n",
      "Trainable params: 15,797\n",
      "Non-trainable params: 0\n",
      "_________________________________________________________________\n"
     ]
    }
   ],
   "source": [
    "n_steps = 36\n",
    "n_inputs = 1\n",
    "\n",
    "model = keras.models.Sequential([\n",
    "    keras.layers.Conv1D(filters=10, kernel_size=3, strides=2, padding=\"valid\", input_shape=[n_steps, n_inputs]),\n",
    "    keras.layers.Conv1D(filters=20, kernel_size=3, strides=1, padding=\"valid\", dilation_rate=2),\n",
    "    keras.layers.LSTM(32, return_sequences=True),\n",
    "    keras.layers.LSTM(32),\n",
    "    keras.layers.Dense(1, activation='sigmoid')\n",
    "])\n",
    "\n",
    "model.summary()"
   ]
  },
  {
   "cell_type": "code",
   "execution_count": 51,
   "metadata": {
    "scrolled": true
   },
   "outputs": [
    {
     "name": "stdout",
     "output_type": "stream",
     "text": [
      "Epoch 1/20\n",
      "27/27 [==============================] - 13s 97ms/step - loss: 0.5301 - accuracy: 0.7387 - val_loss: 0.4732 - val_accuracy: 0.7832\n",
      "Epoch 2/20\n",
      "27/27 [==============================] - 1s 29ms/step - loss: 0.4361 - accuracy: 0.7944 - val_loss: 0.4651 - val_accuracy: 0.7588\n",
      "Epoch 3/20\n",
      "27/27 [==============================] - 1s 28ms/step - loss: 0.4173 - accuracy: 0.7909 - val_loss: 0.4533 - val_accuracy: 0.7886\n",
      "Epoch 4/20\n",
      "27/27 [==============================] - 1s 30ms/step - loss: 0.4017 - accuracy: 0.8084 - val_loss: 0.4817 - val_accuracy: 0.7480\n",
      "Epoch 5/20\n",
      "27/27 [==============================] - 1s 29ms/step - loss: 0.4091 - accuracy: 0.8107 - val_loss: 0.4618 - val_accuracy: 0.7669\n",
      "Epoch 6/20\n",
      "27/27 [==============================] - 1s 28ms/step - loss: 0.3826 - accuracy: 0.8304 - val_loss: 0.4892 - val_accuracy: 0.7669\n",
      "Epoch 7/20\n",
      "27/27 [==============================] - 1s 28ms/step - loss: 0.3625 - accuracy: 0.8328 - val_loss: 0.4866 - val_accuracy: 0.7859\n",
      "Epoch 8/20\n",
      "27/27 [==============================] - 1s 27ms/step - loss: 0.3367 - accuracy: 0.8630 - val_loss: 0.5440 - val_accuracy: 0.7615\n",
      "Epoch 8: early stopping\n"
     ]
    }
   ],
   "source": [
    "np.random.seed(42)\n",
    "tf.random.set_seed(42)\n",
    "\n",
    "optimizer = keras.optimizers.Nadam(learning_rate=0.01)\n",
    "\n",
    "model.compile(loss=\"binary_crossentropy\", optimizer=optimizer, metrics=['accuracy'])\n",
    "\n",
    "history = model.fit(train_x, train_y, epochs=20,\n",
    "                   validation_data = (test_x, test_y), callbacks=callback)"
   ]
  },
  {
   "cell_type": "code",
   "execution_count": 52,
   "metadata": {},
   "outputs": [
    {
     "data": {
      "text/plain": [
       "[0.5440323948860168, 0.7615176439285278]"
      ]
     },
     "execution_count": 52,
     "metadata": {},
     "output_type": "execute_result"
    }
   ],
   "source": [
    "# evaluate the model\n",
    "\n",
    "scores = model.evaluate(test_x, test_y, verbose=0)\n",
    "\n",
    "scores\n",
    "\n",
    "# In results, first is loss, second is accuracy"
   ]
  },
  {
   "cell_type": "code",
   "execution_count": 53,
   "metadata": {
    "scrolled": false
   },
   "outputs": [
    {
     "name": "stdout",
     "output_type": "stream",
     "text": [
      "loss: 0.54\n",
      "accuracy: 76.15%\n"
     ]
    }
   ],
   "source": [
    "# extract the accuracy from model.evaluate\n",
    "\n",
    "print(\"%s: %.2f\" % (model.metrics_names[0], scores[0]))\n",
    "print(\"%s: %.2f%%\" % (model.metrics_names[1], scores[1]*100))\n"
   ]
  },
  {
   "cell_type": "code",
   "execution_count": null,
   "metadata": {},
   "outputs": [],
   "source": []
  },
  {
   "cell_type": "code",
   "execution_count": null,
   "metadata": {},
   "outputs": [],
   "source": []
  }
 ],
 "metadata": {
  "kernelspec": {
   "display_name": "Python 3 (ipykernel)",
   "language": "python",
   "name": "python3"
  },
  "language_info": {
   "codemirror_mode": {
    "name": "ipython",
    "version": 3
   },
   "file_extension": ".py",
   "mimetype": "text/x-python",
   "name": "python",
   "nbconvert_exporter": "python",
   "pygments_lexer": "ipython3",
   "version": "3.9.12"
  },
  "nav_menu": {},
  "toc": {
   "base_numbering": 1,
   "nav_menu": {},
   "number_sections": false,
   "sideBar": true,
   "skip_h1_title": false,
   "title_cell": "Table of Contents",
   "title_sidebar": "Contents",
   "toc_cell": false,
   "toc_position": {
    "height": "calc(100% - 180px)",
    "left": "10px",
    "top": "150px",
    "width": "288px"
   },
   "toc_section_display": "block",
   "toc_window_display": true
  },
  "varInspector": {
   "cols": {
    "lenName": 16,
    "lenType": 16,
    "lenVar": 40
   },
   "kernels_config": {
    "python": {
     "delete_cmd_postfix": "",
     "delete_cmd_prefix": "del ",
     "library": "var_list.py",
     "varRefreshCmd": "print(var_dic_list())"
    },
    "r": {
     "delete_cmd_postfix": ") ",
     "delete_cmd_prefix": "rm(",
     "library": "var_list.r",
     "varRefreshCmd": "cat(var_dic_list()) "
    }
   },
   "types_to_exclude": [
    "module",
    "function",
    "builtin_function_or_method",
    "instance",
    "_Feature"
   ],
   "window_display": false
  }
 },
 "nbformat": 4,
 "nbformat_minor": 1
}
